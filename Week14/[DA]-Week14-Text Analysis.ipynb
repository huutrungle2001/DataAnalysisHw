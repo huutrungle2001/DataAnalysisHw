{
 "cells": [
  {
   "cell_type": "code",
   "execution_count": 78,
   "id": "f0bbb553",
   "metadata": {},
   "outputs": [
    {
     "name": "stderr",
     "output_type": "stream",
     "text": [
      "[nltk_data] Downloading package stopwords to\n",
      "[nltk_data]     /Users/huutrungle2001/nltk_data...\n",
      "[nltk_data]   Package stopwords is already up-to-date!\n"
     ]
    }
   ],
   "source": [
    "import numpy as np\n",
    "import pandas as pd\n",
    "import seaborn as sns\n",
    "import matplotlib.pyplot as plt\n",
    "from sklearn.model_selection import train_test_split\n",
    "from sklearn.tree import DecisionTreeClassifier\n",
    "from sklearn.ensemble import RandomForestClassifier\n",
    "from sklearn.metrics import accuracy_score, confusion_matrix, classification_report\n",
    "import re\n",
    "import nltk\n",
    "from nltk.corpus import stopwords\n",
    "import joblib\n",
    "from sklearn.feature_extraction.text import TfidfVectorizer\n",
    "import warnings\n",
    "\n",
    "\n",
    "warnings.filterwarnings(\"ignore\")\n",
    "nltk.download('stopwords')\n",
    "stop_words = set(stopwords.words('english'))"
   ]
  },
  {
   "cell_type": "code",
   "execution_count": 79,
   "id": "133c800d",
   "metadata": {},
   "outputs": [
    {
     "data": {
      "text/html": [
       "<div>\n",
       "<style scoped>\n",
       "    .dataframe tbody tr th:only-of-type {\n",
       "        vertical-align: middle;\n",
       "    }\n",
       "\n",
       "    .dataframe tbody tr th {\n",
       "        vertical-align: top;\n",
       "    }\n",
       "\n",
       "    .dataframe thead th {\n",
       "        text-align: right;\n",
       "    }\n",
       "</style>\n",
       "<table border=\"1\" class=\"dataframe\">\n",
       "  <thead>\n",
       "    <tr style=\"text-align: right;\">\n",
       "      <th></th>\n",
       "      <th>title</th>\n",
       "      <th>text</th>\n",
       "      <th>subject</th>\n",
       "      <th>date</th>\n",
       "      <th>label</th>\n",
       "    </tr>\n",
       "  </thead>\n",
       "  <tbody>\n",
       "    <tr>\n",
       "      <th>0</th>\n",
       "      <td>WATCH: Kellyanne Conway Wore Out Her Welcome ...</td>\n",
       "      <td>CNN host Anderson Cooper s reactions to Kellya...</td>\n",
       "      <td>News</td>\n",
       "      <td>May 10, 2017</td>\n",
       "      <td>0</td>\n",
       "    </tr>\n",
       "    <tr>\n",
       "      <th>1</th>\n",
       "      <td>BREAKING: IRS Will Investigate “Lawless” CLINT...</td>\n",
       "      <td>The house of cards is falling as America eager...</td>\n",
       "      <td>left-news</td>\n",
       "      <td>Jul 27, 2016</td>\n",
       "      <td>0</td>\n",
       "    </tr>\n",
       "    <tr>\n",
       "      <th>2</th>\n",
       "      <td>Cameroon Anglophone protests reignite with sep...</td>\n",
       "      <td>BUEA, Cameroon (Reuters) - Thousands of demons...</td>\n",
       "      <td>worldnews</td>\n",
       "      <td>September 22, 2017</td>\n",
       "      <td>1</td>\n",
       "    </tr>\n",
       "    <tr>\n",
       "      <th>3</th>\n",
       "      <td>U.S. EPA bans some scientists from independent...</td>\n",
       "      <td>WASHINGTON (Reuters) - The U.S. Environmental ...</td>\n",
       "      <td>politicsNews</td>\n",
       "      <td>October 31, 2017</td>\n",
       "      <td>1</td>\n",
       "    </tr>\n",
       "    <tr>\n",
       "      <th>4</th>\n",
       "      <td>Uber, Google, Twitter, Netflix and Other Tech ...</td>\n",
       "      <td>21st Century Wire says A group of top Silicon ...</td>\n",
       "      <td>Middle-east</td>\n",
       "      <td>February 6, 2017</td>\n",
       "      <td>0</td>\n",
       "    </tr>\n",
       "    <tr>\n",
       "      <th>...</th>\n",
       "      <td>...</td>\n",
       "      <td>...</td>\n",
       "      <td>...</td>\n",
       "      <td>...</td>\n",
       "      <td>...</td>\n",
       "    </tr>\n",
       "    <tr>\n",
       "      <th>44893</th>\n",
       "      <td>Twitter Destroys Trump For Using Dwyane Wade’...</td>\n",
       "      <td>Donald Trump s pathetic effort to reach out to...</td>\n",
       "      <td>News</td>\n",
       "      <td>August 27, 2016</td>\n",
       "      <td>0</td>\n",
       "    </tr>\n",
       "    <tr>\n",
       "      <th>44894</th>\n",
       "      <td>Trump Dominates South Carolina, Dooming The R...</td>\n",
       "      <td>Iiiiiitttt ssssssss a wonderful day in the (Wh...</td>\n",
       "      <td>News</td>\n",
       "      <td>February 21, 2016</td>\n",
       "      <td>0</td>\n",
       "    </tr>\n",
       "    <tr>\n",
       "      <th>44895</th>\n",
       "      <td>Right-Wing Terrorist Found With Shrapnel-Fill...</td>\n",
       "      <td>The Republican Party has spent more than seven...</td>\n",
       "      <td>News</td>\n",
       "      <td>February 2, 2016</td>\n",
       "      <td>0</td>\n",
       "    </tr>\n",
       "    <tr>\n",
       "      <th>44896</th>\n",
       "      <td>WHILE #UnFitHillary Rests And Parties With Don...</td>\n",
       "      <td>Wow! These are not good numbers for Hillary in...</td>\n",
       "      <td>left-news</td>\n",
       "      <td>Sep 5, 2016</td>\n",
       "      <td>0</td>\n",
       "    </tr>\n",
       "    <tr>\n",
       "      <th>44897</th>\n",
       "      <td>Chicago touts new debt structure aimed at savi...</td>\n",
       "      <td>CHICAGO (Reuters) - Under a plan announced on ...</td>\n",
       "      <td>politicsNews</td>\n",
       "      <td>August 9, 2017</td>\n",
       "      <td>1</td>\n",
       "    </tr>\n",
       "  </tbody>\n",
       "</table>\n",
       "<p>44898 rows × 5 columns</p>\n",
       "</div>"
      ],
      "text/plain": [
       "                                                   title  \\\n",
       "0       WATCH: Kellyanne Conway Wore Out Her Welcome ...   \n",
       "1      BREAKING: IRS Will Investigate “Lawless” CLINT...   \n",
       "2      Cameroon Anglophone protests reignite with sep...   \n",
       "3      U.S. EPA bans some scientists from independent...   \n",
       "4      Uber, Google, Twitter, Netflix and Other Tech ...   \n",
       "...                                                  ...   \n",
       "44893   Twitter Destroys Trump For Using Dwyane Wade’...   \n",
       "44894   Trump Dominates South Carolina, Dooming The R...   \n",
       "44895   Right-Wing Terrorist Found With Shrapnel-Fill...   \n",
       "44896  WHILE #UnFitHillary Rests And Parties With Don...   \n",
       "44897  Chicago touts new debt structure aimed at savi...   \n",
       "\n",
       "                                                    text       subject  \\\n",
       "0      CNN host Anderson Cooper s reactions to Kellya...          News   \n",
       "1      The house of cards is falling as America eager...     left-news   \n",
       "2      BUEA, Cameroon (Reuters) - Thousands of demons...     worldnews   \n",
       "3      WASHINGTON (Reuters) - The U.S. Environmental ...  politicsNews   \n",
       "4      21st Century Wire says A group of top Silicon ...   Middle-east   \n",
       "...                                                  ...           ...   \n",
       "44893  Donald Trump s pathetic effort to reach out to...          News   \n",
       "44894  Iiiiiitttt ssssssss a wonderful day in the (Wh...          News   \n",
       "44895  The Republican Party has spent more than seven...          News   \n",
       "44896  Wow! These are not good numbers for Hillary in...     left-news   \n",
       "44897  CHICAGO (Reuters) - Under a plan announced on ...  politicsNews   \n",
       "\n",
       "                      date  label  \n",
       "0             May 10, 2017      0  \n",
       "1             Jul 27, 2016      0  \n",
       "2      September 22, 2017       1  \n",
       "3        October 31, 2017       1  \n",
       "4         February 6, 2017      0  \n",
       "...                    ...    ...  \n",
       "44893      August 27, 2016      0  \n",
       "44894    February 21, 2016      0  \n",
       "44895     February 2, 2016      0  \n",
       "44896          Sep 5, 2016      0  \n",
       "44897      August 9, 2017       1  \n",
       "\n",
       "[44898 rows x 5 columns]"
      ]
     },
     "execution_count": 79,
     "metadata": {},
     "output_type": "execute_result"
    }
   ],
   "source": [
    "fake = pd.read_csv('fake.csv')\n",
    "fake[\"label\"] = 0\n",
    "real = pd.read_csv('true.csv')\n",
    "real[\"label\"] = 1\n",
    "\n",
    "data = pd.concat([fake, real], ignore_index=True)\n",
    "data = data.sample(frac=1).reset_index(drop=True)\n",
    "data = data.dropna()\n",
    "data = data.reset_index(drop=True)\n",
    "data"
   ]
  },
  {
   "cell_type": "code",
   "execution_count": 80,
   "id": "caf42c2d",
   "metadata": {},
   "outputs": [],
   "source": [
    "def preprocess_text(text):\n",
    "    text = re.sub(r'[^a-zA-Z\\s]', '', text)\n",
    "    text = text.lower()\n",
    "    text = ' '.join([word for word in text.split() if word not in stop_words])\n",
    "    return text\n",
    "\n",
    "data['text'] = data['text'].apply(preprocess_text)"
   ]
  },
  {
   "cell_type": "code",
   "execution_count": 81,
   "id": "39e8c089",
   "metadata": {},
   "outputs": [],
   "source": [
    "X = data['text']\n",
    "y = data['label']\n",
    "\n",
    "X_train, X_test, y_train, y_test = train_test_split(\n",
    "    X, y, test_size=0.2, random_state=42)"
   ]
  },
  {
   "cell_type": "code",
   "execution_count": 82,
   "id": "ffe2b309",
   "metadata": {},
   "outputs": [],
   "source": [
    "vectorizer = TfidfVectorizer(max_features=5000)\n",
    "X_train_vectorized = vectorizer.fit_transform(X_train)\n",
    "X_test_vectorized = vectorizer.transform(X_test)"
   ]
  },
  {
   "cell_type": "code",
   "execution_count": 83,
   "id": "f90029b7",
   "metadata": {},
   "outputs": [
    {
     "name": "stdout",
     "output_type": "stream",
     "text": [
      "Decision Tree Classifier Accuracy: 0.9954\n",
      "Decision Tree Classifier Classification Report:\n",
      "              precision    recall  f1-score   support\n",
      "\n",
      "           0       1.00      1.00      1.00      4666\n",
      "           1       0.99      1.00      1.00      4314\n",
      "\n",
      "    accuracy                           1.00      8980\n",
      "   macro avg       1.00      1.00      1.00      8980\n",
      "weighted avg       1.00      1.00      1.00      8980\n",
      "\n"
     ]
    },
    {
     "data": {
      "image/png": "[encoded data removed]",
      "text/plain": [
       "<Figure size 1000x700 with 2 Axes>"
      ]
     },
     "metadata": {},
     "output_type": "display_data"
    }
   ],
   "source": [
    "# Decision Tree Classifier\n",
    "dt_classifier = DecisionTreeClassifier(random_state=42)\n",
    "dt_classifier.fit(X_train_vectorized, y_train)\n",
    "y_pred_dt = dt_classifier.predict(X_test_vectorized)\n",
    "dt_accuracy = accuracy_score(y_test, y_pred_dt)\n",
    "print(f\"Decision Tree Classifier Accuracy: {dt_accuracy:.4f}\")\n",
    "print(\"Decision Tree Classifier Classification Report:\")\n",
    "print(classification_report(y_test, y_pred_dt))\n",
    "cm_dt = confusion_matrix(y_test, y_pred_dt)\n",
    "plt.figure(figsize=(10, 7))\n",
    "sns.heatmap(cm_dt, annot=True, fmt='d', cmap='Blues', xticklabels=[\n",
    "            'Fake', 'Real'], yticklabels=['Fake', 'Real'])\n",
    "plt.title('Decision Tree Classifier Confusion Matrix')\n",
    "plt.xlabel('Predicted')\n",
    "plt.ylabel('Actual')\n",
    "plt.show()"
   ]
  },
  {
   "cell_type": "code",
   "execution_count": 84,
   "id": "c706c47d",
   "metadata": {},
   "outputs": [
    {
     "name": "stdout",
     "output_type": "stream",
     "text": [
      "Random Forest Classifier Accuracy: 0.9983\n",
      "Random Forest Classifier Classification Report:\n",
      "              precision    recall  f1-score   support\n",
      "\n",
      "           0       1.00      1.00      1.00      4666\n",
      "           1       1.00      1.00      1.00      4314\n",
      "\n",
      "    accuracy                           1.00      8980\n",
      "   macro avg       1.00      1.00      1.00      8980\n",
      "weighted avg       1.00      1.00      1.00      8980\n",
      "\n"
     ]
    },
    {
     "data": {
      "image/png": "[encoded data removed]",
      "text/plain": [
       "<Figure size 1000x700 with 2 Axes>"
      ]
     },
     "metadata": {},
     "output_type": "display_data"
    }
   ],
   "source": [
    "# Random Forest Classifier\n",
    "rf_classifier = RandomForestClassifier(random_state=42)\n",
    "rf_classifier.fit(X_train_vectorized, y_train)\n",
    "y_pred_rf = rf_classifier.predict(X_test_vectorized)\n",
    "rf_accuracy = accuracy_score(y_test, y_pred_rf)\n",
    "print(f\"Random Forest Classifier Accuracy: {rf_accuracy:.4f}\")\n",
    "print(\"Random Forest Classifier Classification Report:\")\n",
    "print(classification_report(y_test, y_pred_rf))\n",
    "cm_rf = confusion_matrix(y_test, y_pred_rf)\n",
    "plt.figure(figsize=(10, 7))\n",
    "sns.heatmap(cm_rf, annot=True, fmt='d', cmap='Blues', xticklabels=[\n",
    "            'Fake', 'Real'], yticklabels=['Fake', 'Real'])\n",
    "plt.title('Random Forest Classifier Confusion Matrix')\n",
    "plt.xlabel('Predicted')\n",
    "plt.ylabel('Actual')\n",
    "plt.show()"
   ]
  }
 ],
 "metadata": {
  "kernelspec": {
   "display_name": "Python 3",
   "language": "python",
   "name": "python3"
  },
  "language_info": {
   "name": "python",
   "version": "3.11.11"
  }
 },
 "nbformat": 4,
 "nbformat_minor": 5
}
