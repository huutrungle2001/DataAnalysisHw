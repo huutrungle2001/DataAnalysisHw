{
  "cells": [
    {
      "cell_type": "markdown",
      "metadata": {
        "id": "eakPlQ1SdK5R"
      },
      "source": [
        "# C. Bài tập\n",
        "\n",
        "Chọn lấy 1 bộ dữ liệu bất kì từ đây. https://archive.ics.uci.edu/\n",
        "\n",
        "\n",
        "Chọn lấy ít nhất 3 thuật toán classification tại thư viện Scikit-Learn: https://scikit-learn.org/stable/auto_examples/classification/index.html\n",
        "\n",
        "So sánh kết quả vẽ hình, đánh giá dựa trên các performance metrics, ví dụ một số metrics tại đây:\n",
        "https://permetrics.readthedocs.io/en/latest/pages/regression.html\n",
        "\n",
        "https://github.com/thieu1995/PerMetrics\n",
        "\n",
        "\n",
        "\n",
        "\n"
      ]
    },
    {
      "cell_type": "code",
      "execution_count": 116,
      "metadata": {
        "colab": {
          "base_uri": "https://localhost:8080/"
        },
        "id": "u-RY16fihhU8",
        "outputId": "b6ad3337-c73a-4615-a2be-636b07781279"
      },
      "outputs": [
        {
          "name": "stdout",
          "output_type": "stream",
          "text": [
            "{'uci_id': 10, 'name': 'Automobile', 'repository_url': 'https://archive.ics.uci.edu/dataset/10/automobile', 'data_url': 'https://archive.ics.uci.edu/static/public/10/data.csv', 'abstract': \"From 1985 Ward's Automotive Yearbook\", 'area': 'Other', 'tasks': ['Regression'], 'characteristics': ['Multivariate'], 'num_instances': 205, 'num_features': 25, 'feature_types': ['Categorical', 'Integer', 'Real'], 'demographics': [], 'target_col': ['symboling'], 'index_col': None, 'has_missing_values': 'yes', 'missing_values_symbol': 'NaN', 'year_of_dataset_creation': 1985, 'last_updated': 'Thu Aug 10 2023', 'dataset_doi': '10.24432/C5B01C', 'creators': ['Jeffrey Schlimmer'], 'intro_paper': None, 'additional_info': {'summary': 'This data set consists of three types of entities: (a) the specification of an auto in terms of various characteristics, (b) its assigned insurance risk rating, (c) its normalized losses in use as compared to other cars.  The second rating corresponds to the degree to which the auto is more risky than its price indicates. Cars are initially assigned a risk factor symbol associated with its price.   Then, if it is more risky (or less), this symbol is adjusted by moving it up (or down) the scale.  Actuarians call this process \"symboling\".  A value of +3 indicates that the auto is risky, -3 that it is probably pretty safe.\\r\\n\\r\\nThe third factor is the relative average loss payment per insured vehicle year.  This value is normalized for all autos within a particular size classification (two-door small, station wagons, sports/speciality, etc...), and represents the average loss per car per year.\\r\\n\\r\\nNote: Several of the attributes in the database could be used as a \"class\" attribute.', 'purpose': None, 'funded_by': None, 'instances_represent': None, 'recommended_data_splits': None, 'sensitive_data': None, 'preprocessing_description': None, 'variable_info': 'Attribute: Attribute Range\\r\\n\\r\\n  1. symboling:                -3, -2, -1, 0, 1, 2, 3.\\r\\n  2. normalized-losses:        continuous from 65 to 256.\\r\\n  3. make:                     \\r\\n                               alfa-romero, audi, bmw, chevrolet, dodge, honda,\\r\\n                               isuzu, jaguar, mazda, mercedes-benz, mercury,\\r\\n                               mitsubishi, nissan, peugot, plymouth, porsche,\\r\\n                               renault, saab, subaru, toyota, volkswagen, volvo\\r\\n\\r\\n  4. fuel-type:                diesel, gas.\\r\\n  5. aspiration:               std, turbo.\\r\\n  6. num-of-doors:             four, two.\\r\\n  7. body-style:               hardtop, wagon, sedan, hatchback, convertible.\\r\\n  8. drive-wheels:             4wd, fwd, rwd.\\r\\n  9. engine-location:          front, rear.\\r\\n 10. wheel-base:               continuous from 86.6 120.9.\\r\\n 11. length:                   continuous from 141.1 to 208.1.\\r\\n 12. width:                    continuous from 60.3 to 72.3.\\r\\n 13. height:                   continuous from 47.8 to 59.8.\\r\\n 14. curb-weight:              continuous from 1488 to 4066.\\r\\n 15. engine-type:              dohc, dohcv, l, ohc, ohcf, ohcv, rotor.\\r\\n 16. num-of-cylinders:         eight, five, four, six, three, twelve, two.\\r\\n 17. engine-size:              continuous from 61 to 326.\\r\\n 18. fuel-system:              1bbl, 2bbl, 4bbl, idi, mfi, mpfi, spdi, spfi.\\r\\n 19. bore:                     continuous from 2.54 to 3.94.\\r\\n 20. stroke:                   continuous from 2.07 to 4.17.\\r\\n 21. compression-ratio:        continuous from 7 to 23.\\r\\n 22. horsepower:               continuous from 48 to 288.\\r\\n 23. peak-rpm:                 continuous from 4150 to 6600.\\r\\n 24. city-mpg:                 continuous from 13 to 49.\\r\\n 25. highway-mpg:              continuous from 16 to 54.\\r\\n 26. price:                    continuous from 5118 to 45400.', 'citation': None}}\n",
            "                 name     role         type demographic  \\\n",
            "0               price  Feature   Continuous        None   \n",
            "1         highway-mpg  Feature   Continuous        None   \n",
            "2            city-mpg  Feature   Continuous        None   \n",
            "3            peak-rpm  Feature   Continuous        None   \n",
            "4          horsepower  Feature   Continuous        None   \n",
            "5   compression-ratio  Feature   Continuous        None   \n",
            "6              stroke  Feature   Continuous        None   \n",
            "7                bore  Feature   Continuous        None   \n",
            "8         fuel-system  Feature  Categorical        None   \n",
            "9         engine-size  Feature   Continuous        None   \n",
            "10   num-of-cylinders  Feature      Integer        None   \n",
            "11        engine-type  Feature  Categorical        None   \n",
            "12        curb-weight  Feature   Continuous        None   \n",
            "13             height  Feature   Continuous        None   \n",
            "14              width  Feature   Continuous        None   \n",
            "15             length  Feature   Continuous        None   \n",
            "16         wheel-base  Feature   Continuous        None   \n",
            "17    engine-location  Feature       Binary        None   \n",
            "18       drive-wheels  Feature  Categorical        None   \n",
            "19         body-style  Feature  Categorical        None   \n",
            "20       num-of-doors  Feature      Integer        None   \n",
            "21         aspiration  Feature       Binary        None   \n",
            "22          fuel-type  Feature       Binary        None   \n",
            "23               make  Feature  Categorical        None   \n",
            "24  normalized-losses  Feature   Continuous        None   \n",
            "25          symboling   Target      Integer        None   \n",
            "\n",
            "                                          description units missing_values  \n",
            "0                       continuous from 5118 to 45400  None            yes  \n",
            "1                            continuous from 16 to 54  None             no  \n",
            "2                            continuous from 13 to 49  None             no  \n",
            "3                        continuous from 4150 to 6600  None            yes  \n",
            "4                           continuous from 48 to 288  None            yes  \n",
            "5                             continuous from 7 to 23  None             no  \n",
            "6                        continuous from 2.07 to 4.17  None            yes  \n",
            "7                        continuous from 2.54 to 3.94  None            yes  \n",
            "8        1bbl, 2bbl, 4bbl, idi, mfi, mpfi, spdi, spfi  None             no  \n",
            "9                           continuous from 61 to 326  None             no  \n",
            "10         eight, five, four, six, three, twelve, two  None             no  \n",
            "11             dohc, dohcv, l, ohc, ohcf, ohcv, rotor  None             no  \n",
            "12                       continuous from 1488 to 4066  None             no  \n",
            "13                       continuous from 47.8 to 59.8  None             no  \n",
            "14                       continuous from 60.3 to 72.3  None             no  \n",
            "15                     continuous from 141.1 to 208.1  None             no  \n",
            "16                         continuous from 86.6 120.9  None             no  \n",
            "17                                        front, rear  None             no  \n",
            "18                                      4wd, fwd, rwd  None             no  \n",
            "19      hardtop, wagon, sedan, hatchback, convertible  None             no  \n",
            "20                                          four, two  None            yes  \n",
            "21                                         std, turbo  None             no  \n",
            "22                                        diesel, gas  None             no  \n",
            "23  alfa-romero, audi, bmw, chevrolet, dodge, hond...  None             no  \n",
            "24                          continuous from 65 to 256  None            yes  \n",
            "25                             -3, -2, -1, 0, 1, 2, 3  None             no  \n"
          ]
        }
      ],
      "source": [
        "from ucimlrepo import fetch_ucirepo\n",
        "\n",
        "# fetch dataset\n",
        "automobile = fetch_ucirepo(id=10)\n",
        "\n",
        "# data (as pandas dataframes)\n",
        "X = automobile.data.features\n",
        "y = automobile.data.targets\n",
        "\n",
        "# metadata\n",
        "print(automobile.metadata)\n",
        "\n",
        "# variable information\n",
        "print(automobile.variables)\n"
      ]
    },
    {
      "cell_type": "code",
      "execution_count": 117,
      "metadata": {},
      "outputs": [
        {
          "name": "stdout",
          "output_type": "stream",
          "text": [
            "<class 'pandas.core.frame.DataFrame'>\n",
            "RangeIndex: 205 entries, 0 to 204\n",
            "Data columns (total 25 columns):\n",
            " #   Column             Non-Null Count  Dtype  \n",
            "---  ------             --------------  -----  \n",
            " 0   price              201 non-null    float64\n",
            " 1   highway-mpg        205 non-null    int64  \n",
            " 2   city-mpg           205 non-null    int64  \n",
            " 3   peak-rpm           203 non-null    float64\n",
            " 4   horsepower         203 non-null    float64\n",
            " 5   compression-ratio  205 non-null    float64\n",
            " 6   stroke             201 non-null    float64\n",
            " 7   bore               201 non-null    float64\n",
            " 8   fuel-system        205 non-null    object \n",
            " 9   engine-size        205 non-null    int64  \n",
            " 10  num-of-cylinders   205 non-null    int64  \n",
            " 11  engine-type        205 non-null    object \n",
            " 12  curb-weight        205 non-null    int64  \n",
            " 13  height             205 non-null    float64\n",
            " 14  width              205 non-null    float64\n",
            " 15  length             205 non-null    float64\n",
            " 16  wheel-base         205 non-null    float64\n",
            " 17  engine-location    205 non-null    object \n",
            " 18  drive-wheels       205 non-null    object \n",
            " 19  body-style         205 non-null    object \n",
            " 20  num-of-doors       203 non-null    float64\n",
            " 21  aspiration         205 non-null    object \n",
            " 22  fuel-type          205 non-null    object \n",
            " 23  make               205 non-null    object \n",
            " 24  normalized-losses  164 non-null    float64\n",
            "dtypes: float64(12), int64(5), object(8)\n",
            "memory usage: 40.2+ KB\n"
          ]
        }
      ],
      "source": [
        "X.info()"
      ]
    },
    {
      "cell_type": "code",
      "execution_count": 118,
      "metadata": {},
      "outputs": [
        {
          "data": {
            "text/html": [
              "<div>\n",
              "<style scoped>\n",
              "    .dataframe tbody tr th:only-of-type {\n",
              "        vertical-align: middle;\n",
              "    }\n",
              "\n",
              "    .dataframe tbody tr th {\n",
              "        vertical-align: top;\n",
              "    }\n",
              "\n",
              "    .dataframe thead th {\n",
              "        text-align: right;\n",
              "    }\n",
              "</style>\n",
              "<table border=\"1\" class=\"dataframe\">\n",
              "  <thead>\n",
              "    <tr style=\"text-align: right;\">\n",
              "      <th></th>\n",
              "      <th>symboling</th>\n",
              "    </tr>\n",
              "  </thead>\n",
              "  <tbody>\n",
              "    <tr>\n",
              "      <th>0</th>\n",
              "      <td>3</td>\n",
              "    </tr>\n",
              "    <tr>\n",
              "      <th>1</th>\n",
              "      <td>3</td>\n",
              "    </tr>\n",
              "    <tr>\n",
              "      <th>2</th>\n",
              "      <td>1</td>\n",
              "    </tr>\n",
              "    <tr>\n",
              "      <th>3</th>\n",
              "      <td>2</td>\n",
              "    </tr>\n",
              "    <tr>\n",
              "      <th>4</th>\n",
              "      <td>2</td>\n",
              "    </tr>\n",
              "    <tr>\n",
              "      <th>...</th>\n",
              "      <td>...</td>\n",
              "    </tr>\n",
              "    <tr>\n",
              "      <th>200</th>\n",
              "      <td>-1</td>\n",
              "    </tr>\n",
              "    <tr>\n",
              "      <th>201</th>\n",
              "      <td>-1</td>\n",
              "    </tr>\n",
              "    <tr>\n",
              "      <th>202</th>\n",
              "      <td>-1</td>\n",
              "    </tr>\n",
              "    <tr>\n",
              "      <th>203</th>\n",
              "      <td>-1</td>\n",
              "    </tr>\n",
              "    <tr>\n",
              "      <th>204</th>\n",
              "      <td>-1</td>\n",
              "    </tr>\n",
              "  </tbody>\n",
              "</table>\n",
              "<p>205 rows × 1 columns</p>\n",
              "</div>"
            ],
            "text/plain": [
              "     symboling\n",
              "0            3\n",
              "1            3\n",
              "2            1\n",
              "3            2\n",
              "4            2\n",
              "..         ...\n",
              "200         -1\n",
              "201         -1\n",
              "202         -1\n",
              "203         -1\n",
              "204         -1\n",
              "\n",
              "[205 rows x 1 columns]"
            ]
          },
          "execution_count": 118,
          "metadata": {},
          "output_type": "execute_result"
        }
      ],
      "source": [
        "y"
      ]
    },
    {
      "cell_type": "code",
      "execution_count": 119,
      "metadata": {},
      "outputs": [],
      "source": [
        "import pandas as pd\n",
        "from sklearn.model_selection import train_test_split\n",
        "from sklearn.preprocessing import OneHotEncoder, StandardScaler\n",
        "from sklearn.impute import SimpleImputer\n",
        "from sklearn.compose import ColumnTransformer\n",
        "from sklearn.pipeline import Pipeline\n",
        "from sklearn.ensemble import RandomForestClassifier\n",
        "from sklearn.metrics import accuracy_score\n",
        "import seaborn as sns\n",
        "import matplotlib.pyplot as plt\n",
        "from sklearn.metrics import classification_report\n",
        "from sklearn.metrics import mean_squared_error\n",
        "from sklearn.metrics import confusion_matrix\n",
        "from sklearn.linear_model import LogisticRegression\n",
        "from sklearn.svm import SVC\n",
        "\n",
        "import warnings\n",
        "warnings.filterwarnings(\"ignore\")"
      ]
    },
    {
      "cell_type": "markdown",
      "metadata": {},
      "source": [
        "# Prepare data"
      ]
    },
    {
      "cell_type": "code",
      "execution_count": 120,
      "metadata": {},
      "outputs": [],
      "source": [
        "# Handling Missing Data\n",
        "numerical_cols = X.select_dtypes(include=['float64', 'int64']).columns\n",
        "categorical_cols = X.select_dtypes(include=['object']).columns\n",
        "\n",
        "numerical_transformer = SimpleImputer(strategy='median')\n",
        "categorical_transformer = SimpleImputer(strategy='most_frequent')\n",
        "\n",
        "# Encoding Categorical Variables\n",
        "categorical_transformer = Pipeline(steps=[\n",
        "    ('imputer', SimpleImputer(strategy='most_frequent')),\n",
        "    ('onehot', OneHotEncoder(handle_unknown='ignore'))\n",
        "])\n",
        "\n",
        "# Preprocessing\n",
        "preprocessor = ColumnTransformer(\n",
        "    transformers=[\n",
        "        ('num', numerical_transformer, numerical_cols),\n",
        "        ('cat', categorical_transformer, categorical_cols)\n",
        "    ])\n",
        "\n",
        "X_train, X_test, y_train, y_test = train_test_split(\n",
        "    X, y, test_size=0.2, random_state=42)"
      ]
    },
    {
      "cell_type": "code",
      "execution_count": 121,
      "metadata": {},
      "outputs": [],
      "source": [
        "def draw_confusion_matrix(y_true, y_pred):\n",
        "    cm = confusion_matrix(y_true, y_pred)\n",
        "    sns.heatmap(cm, annot=True, fmt='d', cmap='Blues')\n",
        "    plt.xlabel('Predicted')\n",
        "    plt.ylabel('True')\n",
        "    plt.title('Confusion Matrix')\n",
        "    plt.show()"
      ]
    },
    {
      "cell_type": "markdown",
      "metadata": {},
      "source": [
        "# Random Forest"
      ]
    },
    {
      "cell_type": "code",
      "execution_count": 122,
      "metadata": {},
      "outputs": [
        {
          "name": "stdout",
          "output_type": "stream",
          "text": [
            "              precision    recall  f1-score   support\n",
            "\n",
            "          -2       1.00      1.00      1.00         1\n",
            "          -1       0.71      1.00      0.83         5\n",
            "           0       1.00      0.78      0.88        18\n",
            "           1       0.73      1.00      0.84         8\n",
            "           2       1.00      0.60      0.75         5\n",
            "           3       0.80      1.00      0.89         4\n",
            "\n",
            "    accuracy                           0.85        41\n",
            "   macro avg       0.87      0.90      0.86        41\n",
            "weighted avg       0.89      0.85      0.85        41\n",
            "\n"
          ]
        },
        {
          "data": {
            "image/png": "[encoded data removed]",
            "text/plain": [
              "<Figure size 640x480 with 2 Axes>"
            ]
          },
          "metadata": {},
          "output_type": "display_data"
        }
      ],
      "source": [
        "random_forest_pipeline = Pipeline(steps=[\n",
        "    ('preprocessor', preprocessor),\n",
        "    ('scaler', StandardScaler()),\n",
        "    ('classifier', RandomForestClassifier())\n",
        "])\n",
        "\n",
        "random_forest_pipeline.fit(X_train, y_train)\n",
        "\n",
        "y_pred = random_forest_pipeline.predict(X_test)\n",
        "\n",
        "print(classification_report(y_test, y_pred))\n",
        "\n",
        "draw_confusion_matrix(y_test, y_pred)"
      ]
    },
    {
      "cell_type": "markdown",
      "metadata": {},
      "source": [
        "# Logistic Regression"
      ]
    },
    {
      "cell_type": "code",
      "execution_count": 123,
      "metadata": {},
      "outputs": [
        {
          "name": "stdout",
          "output_type": "stream",
          "text": [
            "              precision    recall  f1-score   support\n",
            "\n",
            "          -2       1.00      1.00      1.00         1\n",
            "          -1       0.83      1.00      0.91         5\n",
            "           0       0.86      0.67      0.75        18\n",
            "           1       0.62      0.62      0.62         8\n",
            "           2       0.38      0.60      0.46         5\n",
            "           3       0.75      0.75      0.75         4\n",
            "\n",
            "    accuracy                           0.71        41\n",
            "   macro avg       0.74      0.77      0.75        41\n",
            "weighted avg       0.74      0.71      0.72        41\n",
            "\n"
          ]
        },
        {
          "data": {
            "image/png": "[encoded data removed]",
            "text/plain": [
              "<Figure size 640x480 with 2 Axes>"
            ]
          },
          "metadata": {},
          "output_type": "display_data"
        }
      ],
      "source": [
        "lr_pipeline = Pipeline(steps=[\n",
        "    ('preprocessor', preprocessor),\n",
        "    ('scaler', StandardScaler()),\n",
        "    ('classifier', LogisticRegression())\n",
        "])\n",
        "\n",
        "lr_pipeline.fit(X_train, y_train)\n",
        "y_pred = lr_pipeline.predict(X_test)\n",
        "print(classification_report(y_test, y_pred))\n",
        "\n",
        "draw_confusion_matrix(y_test, y_pred)"
      ]
    },
    {
      "cell_type": "markdown",
      "metadata": {},
      "source": [
        "# Support Vector Classifier"
      ]
    },
    {
      "cell_type": "code",
      "execution_count": 124,
      "metadata": {},
      "outputs": [
        {
          "name": "stdout",
          "output_type": "stream",
          "text": [
            "              precision    recall  f1-score   support\n",
            "\n",
            "          -2       0.00      0.00      0.00         1\n",
            "          -1       0.71      1.00      0.83         5\n",
            "           0       0.92      0.67      0.77        18\n",
            "           1       0.46      0.75      0.57         8\n",
            "           2       0.50      0.40      0.44         5\n",
            "           3       0.75      0.75      0.75         4\n",
            "\n",
            "    accuracy                           0.68        41\n",
            "   macro avg       0.56      0.59      0.56        41\n",
            "weighted avg       0.72      0.68      0.68        41\n",
            "\n"
          ]
        },
        {
          "data": {
            "image/png": "[encoded data removed]",
            "text/plain": [
              "<Figure size 640x480 with 2 Axes>"
            ]
          },
          "metadata": {},
          "output_type": "display_data"
        }
      ],
      "source": [
        "model_pipeline_svc = Pipeline(steps=[\n",
        "    ('preprocessor', preprocessor),\n",
        "    ('scaler', StandardScaler()),\n",
        "    ('classifier', SVC())\n",
        "])\n",
        "\n",
        "model_pipeline_svc.fit(X_train, y_train)\n",
        "y_pred = model_pipeline_svc.predict(X_test)\n",
        "print(classification_report(y_test, y_pred)) \n",
        "\n",
        "draw_confusion_matrix(y_test, y_pred)"
      ]
    }
  ],
  "metadata": {
    "colab": {
      "provenance": [],
      "toc_visible": true
    },
    "kernelspec": {
      "display_name": "Python 3",
      "name": "python3"
    },
    "language_info": {
      "codemirror_mode": {
        "name": "ipython",
        "version": 3
      },
      "file_extension": ".py",
      "mimetype": "text/x-python",
      "name": "python",
      "nbconvert_exporter": "python",
      "pygments_lexer": "ipython3",
      "version": "3.11.11"
    }
  },
  "nbformat": 4,
  "nbformat_minor": 0
}
